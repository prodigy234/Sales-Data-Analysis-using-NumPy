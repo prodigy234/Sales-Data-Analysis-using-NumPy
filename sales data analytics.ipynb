{
 "cells": [
  {
   "cell_type": "markdown",
   "id": "d58b46be",
   "metadata": {},
   "source": [
    "Step 1: Import Libraries"
   ]
  },
  {
   "cell_type": "code",
   "execution_count": 13,
   "id": "207759cc",
   "metadata": {},
   "outputs": [],
   "source": [
    "# Import Libraries\n",
    "import numpy as np"
   ]
  },
  {
   "cell_type": "markdown",
   "id": "4ab98cf7",
   "metadata": {},
   "source": [
    "* Imports the NumPy library as np, a standard alias.\n",
    "\n",
    "* NumPy provides powerful tools for numerical computing and data manipulation."
   ]
  },
  {
   "cell_type": "markdown",
   "id": "ecce1e30",
   "metadata": {},
   "source": [
    "Step 2: Create Synthetic Sales Data\n",
    "\n",
    "Let's simulate 30 days of sales:"
   ]
  },
  {
   "cell_type": "code",
   "execution_count": 14,
   "id": "a20030d5",
   "metadata": {},
   "outputs": [
    {
     "name": "stdout",
     "output_type": "stream",
     "text": [
      "Sales Data for 30 Days:\n",
      "[202 535 960 370 206 171 800 120 714 221 566 314 430 558 187 472 199 971\n",
      " 763 230 761 408 869 443 591 513 905 485 291 376]\n"
     ]
    }
   ],
   "source": [
    "# Set random seed for repeatability\n",
    "np.random.seed(42)\n",
    "\n",
    "# Generate random sales amounts between $100 and $1000\n",
    "sales = np.random.randint(100, 1000, size=30)\n",
    "\n",
    "# Print sales data\n",
    "print(\"Sales Data for 30 Days:\")\n",
    "print(sales)\n"
   ]
  },
  {
   "cell_type": "markdown",
   "id": "04a93b8e",
   "metadata": {},
   "source": [
    "* Sets a random seed to ensure the same random data is generated each time.\n",
    "\n",
    "* Generates 30 random integers between 100 and 999, simulating daily sales amounts.\n",
    "\n",
    "* Prints the sales data array."
   ]
  },
  {
   "cell_type": "markdown",
   "id": "a3b403d7",
   "metadata": {},
   "source": [
    "Step 3: Basic Sales Analysis"
   ]
  },
  {
   "cell_type": "code",
   "execution_count": 15,
   "id": "6f85b6a9",
   "metadata": {},
   "outputs": [
    {
     "name": "stdout",
     "output_type": "stream",
     "text": [
      "Total Sales in the Month: $14631\n"
     ]
    }
   ],
   "source": [
    "# Total Sales\n",
    "total_sales = np.sum(sales)\n",
    "print(f\"Total Sales in the Month: ${total_sales}\")\n"
   ]
  },
  {
   "cell_type": "markdown",
   "id": "a17838a9",
   "metadata": {},
   "source": [
    "* Sums all daily sales to find total monthly sales.\n",
    "\n",
    "* Prints the total sales value."
   ]
  },
  {
   "cell_type": "code",
   "execution_count": 16,
   "id": "5babaf9b",
   "metadata": {},
   "outputs": [
    {
     "name": "stdout",
     "output_type": "stream",
     "text": [
      "Average Daily Sales: $487.70\n"
     ]
    }
   ],
   "source": [
    "# Average Daily Sales\n",
    "average_sales = np.mean(sales)\n",
    "print(f\"Average Daily Sales: ${average_sales:.2f}\")"
   ]
  },
  {
   "cell_type": "markdown",
   "id": "dacdcdc4",
   "metadata": {},
   "source": [
    "* Computes the average sales per day.\n",
    "\n",
    "* Prints the average formatted to two decimal places."
   ]
  },
  {
   "cell_type": "code",
   "execution_count": 17,
   "id": "89459f96",
   "metadata": {},
   "outputs": [
    {
     "name": "stdout",
     "output_type": "stream",
     "text": [
      "Best-Selling Day: Day 18 with sales of $971\n"
     ]
    }
   ],
   "source": [
    "# Maximum Sales (Best-selling day)\n",
    "max_sales = np.max(sales)\n",
    "best_day = np.argmax(sales) + 1  # Add 1 because days start at 1\n",
    "print(f\"Best-Selling Day: Day {best_day} with sales of ${max_sales}\")"
   ]
  },
  {
   "cell_type": "markdown",
   "id": "a56863e9",
   "metadata": {},
   "source": [
    "* Finds the highest sales value and its day.\n",
    "\n",
    "* Adds 1 to convert zero-based index to human-friendly day number.\n",
    "\n",
    "* Prints the best-selling day and amount."
   ]
  },
  {
   "cell_type": "code",
   "execution_count": 18,
   "id": "45ef5277",
   "metadata": {},
   "outputs": [
    {
     "name": "stdout",
     "output_type": "stream",
     "text": [
      "Worst-Selling Day: Day 8 with sales of $120\n"
     ]
    }
   ],
   "source": [
    "# Minimum Sales (Worst-selling day)\n",
    "min_sales = np.min(sales)\n",
    "worst_day = np.argmin(sales) + 1\n",
    "print(f\"Worst-Selling Day: Day {worst_day} with sales of ${min_sales}\")\n"
   ]
  },
  {
   "cell_type": "markdown",
   "id": "abe8f382",
   "metadata": {},
   "source": [
    "* Finds the lowest sales value and its day.\n",
    "\n",
    "* Prints the worst-selling day and amount."
   ]
  },
  {
   "cell_type": "markdown",
   "id": "8aa07c88",
   "metadata": {},
   "source": [
    "Step 4: Find Days with Above Average Sales"
   ]
  },
  {
   "cell_type": "code",
   "execution_count": 19,
   "id": "04251362",
   "metadata": {},
   "outputs": [
    {
     "name": "stdout",
     "output_type": "stream",
     "text": [
      "Days with Above Average Sales: [ 2  3  7  9 11 14 18 19 21 23 25 26 27]\n"
     ]
    }
   ],
   "source": [
    "above_average_days = np.where(sales > average_sales)\n",
    "print(f\"Days with Above Average Sales: {above_average_days[0] + 1}\")  # +1 because days start at 1"
   ]
  },
  {
   "cell_type": "markdown",
   "id": "2dee2f2b",
   "metadata": {},
   "source": [
    "* Uses Boolean indexing to find days where sales exceeded average.\n",
    "\n",
    "* Prints the list of those days, adjusted for human counting."
   ]
  },
  {
   "cell_type": "code",
   "execution_count": 20,
   "id": "49cf36a0",
   "metadata": {},
   "outputs": [
    {
     "name": "stdout",
     "output_type": "stream",
     "text": [
      "Sales on Above Average Days:\n",
      "[535 960 800 714 566 558 971 763 761 869 591 513 905]\n"
     ]
    }
   ],
   "source": [
    "# Sales on those days:\n",
    "print(\"Sales on Above Average Days:\")\n",
    "print(sales[above_average_days])"
   ]
  },
  {
   "cell_type": "markdown",
   "id": "4e5998df",
   "metadata": {},
   "source": [
    "* Prints the sales amounts corresponding to above-average days."
   ]
  },
  {
   "cell_type": "markdown",
   "id": "05b0ac3f",
   "metadata": {},
   "source": [
    "Step 5: Group Sales into Weeks"
   ]
  },
  {
   "cell_type": "code",
   "execution_count": 21,
   "id": "2d07a330",
   "metadata": {},
   "outputs": [
    {
     "name": "stdout",
     "output_type": "stream",
     "text": [
      "Weekly Sales Data:\n",
      "[[202 535 960 370 206 171]\n",
      " [800 120 714 221 566 314]\n",
      " [430 558 187 472 199 971]\n",
      " [763 230 761 408 869 443]\n",
      " [591 513 905 485 291 376]]\n"
     ]
    }
   ],
   "source": [
    "# Reshape the 30 days into 5 weeks:\n",
    "weekly_sales = sales.reshape(5, 6)  # 5 weeks, 6 days per week\n",
    "print(\"Weekly Sales Data:\")\n",
    "print(weekly_sales)"
   ]
  },
  {
   "cell_type": "markdown",
   "id": "905216cf",
   "metadata": {},
   "source": [
    "* Reshapes the 1D sales array into a 5x6 2D array (5 weeks, 6 days each).\n",
    "\n",
    "* Prints the weekly sales breakdown."
   ]
  },
  {
   "cell_type": "code",
   "execution_count": 22,
   "id": "41fb6099",
   "metadata": {},
   "outputs": [
    {
     "name": "stdout",
     "output_type": "stream",
     "text": [
      "Total Sales per Week:\n",
      "[2444 2735 2817 3474 3161]\n"
     ]
    }
   ],
   "source": [
    "# Weekly totals:\n",
    "week_totals = np.sum(weekly_sales, axis=1)\n",
    "print(\"Total Sales per Week:\")\n",
    "print(week_totals)"
   ]
  },
  {
   "cell_type": "markdown",
   "id": "f94d7fd5",
   "metadata": {},
   "source": [
    "* Sums sales across each week (rows) to get total sales per week.\n",
    "\n",
    "* Prints the weekly totals."
   ]
  },
  {
   "cell_type": "code",
   "execution_count": 23,
   "id": "1cf89483",
   "metadata": {},
   "outputs": [
    {
     "name": "stdout",
     "output_type": "stream",
     "text": [
      "Best Week: Week 4 with total sales of $3474\n"
     ]
    }
   ],
   "source": [
    "# Best week:\n",
    "best_week = np.argmax(week_totals) + 1\n",
    "print(f\"Best Week: Week {best_week} with total sales of ${week_totals[best_week-1]}\")"
   ]
  },
  {
   "cell_type": "markdown",
   "id": "5fd8d168",
   "metadata": {},
   "source": [
    "* Finds the week with the highest total sales.\n",
    "\n",
    "* Prints the best week number and its total sales."
   ]
  }
 ],
 "metadata": {
  "kernelspec": {
   "display_name": "Python 3",
   "language": "python",
   "name": "python3"
  },
  "language_info": {
   "codemirror_mode": {
    "name": "ipython",
    "version": 3
   },
   "file_extension": ".py",
   "mimetype": "text/x-python",
   "name": "python",
   "nbconvert_exporter": "python",
   "pygments_lexer": "ipython3",
   "version": "3.12.7"
  }
 },
 "nbformat": 4,
 "nbformat_minor": 5
}
